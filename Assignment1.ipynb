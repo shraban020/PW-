{
 "cells": [
  {
   "cell_type": "markdown",
   "id": "0cd55ed4-5c96-411c-ba9e-28f5a2363605",
   "metadata": {},
   "source": [
    "# Q1. Explain with an example each when to use a for loop and a while loop."
   ]
  },
  {
   "cell_type": "code",
   "execution_count": null,
   "id": "e5d7666e-2141-470d-a93c-46a2e2e39954",
   "metadata": {},
   "outputs": [],
   "source": [
    "# Both are used for conditainal execution, but for loop is used when number of iterations are known and while loop is used when number of \n",
    "# iterations are unknown."
   ]
  },
  {
   "cell_type": "code",
   "execution_count": 75,
   "id": "9ba155e0-ed1c-47af-bab6-61404b11058b",
   "metadata": {},
   "outputs": [
    {
     "name": "stdout",
     "output_type": "stream",
     "text": [
      "1\n",
      "2\n",
      "5\n"
     ]
    }
   ],
   "source": [
    "# For loop example\n",
    "# Here we know how many times we have to repeart the work. \n",
    "n=[1,2,5]\n",
    "\n",
    "for i in n:   # Here initiation, sequence, and stopping criteria all here\n",
    "    print(i)\n"
   ]
  },
  {
   "cell_type": "code",
   "execution_count": 76,
   "id": "9ea4fb0f-7b6d-4007-a7ec-0b042903c1eb",
   "metadata": {},
   "outputs": [
    {
     "name": "stdout",
     "output_type": "stream",
     "text": [
      "1\n",
      "2\n",
      "3\n"
     ]
    }
   ],
   "source": [
    "#While loop example\n",
    "#Here we have to put the condition only.\n",
    "i=1\n",
    "while i<4:   # here only stopping condition is placed\n",
    "    print(i)\n",
    "    i += 1   # Here it is the increment sequence placed"
   ]
  },
  {
   "cell_type": "markdown",
   "id": "c82c44ff-704b-4858-bb35-109eb777d763",
   "metadata": {},
   "source": [
    "# Q2: Write a python program to print the sum and product of the first 10 natural numbers using for and while loop."
   ]
  },
  {
   "cell_type": "markdown",
   "id": "a7b1bf0e-52cf-476c-b4a2-a2bd68aa1f10",
   "metadata": {},
   "source": [
    "## Q2:1 Assignment with For loop"
   ]
  },
  {
   "cell_type": "code",
   "execution_count": 77,
   "id": "05b70623-6292-45d9-8709-e7930716f64c",
   "metadata": {},
   "outputs": [
    {
     "name": "stdout",
     "output_type": "stream",
     "text": [
      "Sum of the first 10 natural numbers:55\n",
      "Product of the first 10 natural numbers:3628800\n"
     ]
    }
   ],
   "source": [
    "# Natural number starts from 1. So we need output as 1+2+3+4+5+6+7+8+9+10 = 55 Other one 1*2*3*4*5*6*7*8*9*10 = 3628800\n",
    "\n",
    "# We took range as 11 because we play with index, which started with 0\n",
    "tot = 0                            # Assign vaiable as tot to get a total sum, in addtion zero does not effect the equation, so total as 0\n",
    "mul = 1                            # Assign variable as mul to get multiplied value, in multiplication with 0 it will end up with 0, so mul is assigned as 1\n",
    "\n",
    "for i in range(1,11,1):            # range(1,11,1)  means stating point 1, runs till 11-1 = 10, increment by 1\n",
    "    tot = tot + i                   \n",
    "    mul = mul * i\n",
    "    if i == 10:                    # Check if i reach to 10 or not\n",
    "        print('Sum of the first 10 natural numbers:{0}'.format(tot))\n",
    "        print('Product of the first 10 natural numbers:{0}'.format(mul))"
   ]
  },
  {
   "cell_type": "markdown",
   "id": "55b8e119-4a5b-4dc9-9944-661d75b7bf49",
   "metadata": {},
   "source": [
    "## Q2:2 Assignment with For while loop"
   ]
  },
  {
   "cell_type": "code",
   "execution_count": 78,
   "id": "d8310e63-2c53-4ae7-9d4b-5232d92ce79a",
   "metadata": {},
   "outputs": [
    {
     "name": "stdout",
     "output_type": "stream",
     "text": [
      "Sum of the first 10 natural numbers:55\n",
      "Product of the first 10 natural numbers:3628800\n"
     ]
    }
   ],
   "source": [
    "# Natural number starts from 1. So we need output as 1+2+3+4+5+6+7+8+9+10 = 55 Other one 1*2*3*4*5*6*7*8*9*10 = 3628800\n",
    "\n",
    "i = 1                           # While loop iniiated by condition, so created a variable i with 1 to use against stopping condition\n",
    "tot = 0                         # Assign vaiable as tot to get a total sum, in addtion zero does not effect the equation, so total as 0\n",
    "mul = 1                         # Assign variable as mul to get multiplied value, in multiplication with 0 it will end up with 0, so mul is assigned as 1    \n",
    "\n",
    "while i <= 10:                  # Stopping condition\n",
    "    tot = tot + i\n",
    "    if i>=1: \n",
    "        mul = mul * i\n",
    "    if i == 10:\n",
    "        print('Sum of the first 10 natural numbers:{0}'.format(tot))\n",
    "        print('Product of the first 10 natural numbers:{0}'.format(mul))\n",
    "    i += 1                      # Increment Operator"
   ]
  },
  {
   "cell_type": "markdown",
   "id": "182d60ce-92e8-4eb1-8239-a2f9248d55b4",
   "metadata": {},
   "source": [
    "# Q3. Create a python program to compute the electricity bill for a household."
   ]
  },
  {
   "cell_type": "code",
   "execution_count": 79,
   "id": "977f5056-7e4b-4d1e-9b49-056aee27651a",
   "metadata": {},
   "outputs": [
    {
     "name": "stdin",
     "output_type": "stream",
     "text": [
      "Enter unit: 310\n"
     ]
    },
    {
     "name": "stdout",
     "output_type": "stream",
     "text": [
      "You have to pay\n",
      "2250\n"
     ]
    }
   ],
   "source": [
    "# The per-unit charges in rupees are as follows: For the first 100 units, the user will be charged Rs. 4.5 per unit, for the next 100 units, the \n",
    "# user will be charged Rs. 6 per unit, and for the next 100 units, the user will be charged Rs. 10 per unit, After 300 units and above the user will be \n",
    "# charged Rs. 20 per unit.\n",
    "\n",
    "# You are required to take the units of electricity consumed in a month from the user as input.Your program must pass this test case: when the \n",
    "# unit of electricity consumed by the user in a month is 310, the total electricity bill should be 2250.\n",
    "\n",
    "i = input(\"Enter unit:\")                          # Enter billed unit\n",
    "if i.isnumeric():                                 # Check if user input unit sting contains any numeric fromat data or not\n",
    "    print(\"You have to pay\")\n",
    "    i = int(i)                                    # If numeric data is entered; convert it th str to int, so that calculation can be proceed\n",
    "    if i<=100:                                    # If unit is less than equal to 100\n",
    "        Bill = i*4.5                              # Billed unit multiply by 4.5\n",
    "        print(Bill)\n",
    "    elif i>100 and i<=200:                        # If unit is greater than 100 and less than equal to 200\n",
    "        Bill = 450+(6*(200-i))                    # For the next 100 units, the user will be charged Rs. 6 per unit\n",
    "        print(Bill)\n",
    "    elif i>200 and i<=300:                        # If unit is greater than 200 and less than equal to 300\n",
    "        Bill = 450+600+(10*(300-i))               # For the next 100 units, the user will be charged Rs. 10 per unit\n",
    "        print(Bill)\n",
    "    elif i>300:                                   # If unit is greater than 300\n",
    "        Bill = 450+600+1000+(20*(-1)*(300-i))     # After 300 units and above the user will be charged Rs. 20 per unit.\n",
    "        print(Bill)\n",
    "else: print('Run the program again')              # If eneterd unit is  other than number format"
   ]
  },
  {
   "cell_type": "markdown",
   "id": "5baee8c9-6f33-4751-b3ea-e7a31a5dd81e",
   "metadata": {},
   "source": [
    "# Q4. Create a list of numbers from 1 to 100. Use for loop and while loop to calculate the cube of each number and if the cube of that number is divisible by 4 or 5 then append that number in a list and print that list."
   ]
  },
  {
   "cell_type": "code",
   "execution_count": 80,
   "id": "b96bef4e-8b7c-46c8-b2d0-7c571babb49b",
   "metadata": {},
   "outputs": [
    {
     "name": "stdout",
     "output_type": "stream",
     "text": [
      "Please find the list of numbers from 1 to 100\n",
      "[1, 2, 3, 4, 5, 6, 7, 8, 9, 10, 11, 12, 13, 14, 15, 16, 17, 18, 19, 20, 21, 22, 23, 24, 25, 26, 27, 28, 29, 30, 31, 32, 33, 34, 35, 36, 37, 38, 39, 40, 41, 42, 43, 44, 45, 46, 47, 48, 49, 50, 51, 52, 53, 54, 55, 56, 57, 58, 59, 60, 61, 62, 63, 64, 65, 66, 67, 68, 69, 70, 71, 72, 73, 74, 75, 76, 77, 78, 79, 80, 81, 82, 83, 84, 85, 86, 87, 88, 89, 90, 91, 92, 93, 94, 95, 96, 97, 98, 99, 100]\n",
      "O/P by using for loop:\n",
      "[2, 4, 5, 6, 8, 10, 12, 14, 15, 16, 18, 20, 22, 24, 25, 26, 28, 30, 32, 34, 35, 36, 38, 40, 42, 44, 45, 46, 48, 50, 52, 54, 55, 56, 58, 60, 62, 64, 65, 66, 68, 70, 72, 74, 75, 76, 78, 80, 82, 84, 85, 86, 88, 90, 92, 94, 95, 96, 98, 100]\n",
      "O/P by using while loop:\n",
      "[2, 4, 5, 6, 8, 10, 12, 14, 15, 16, 18, 20, 22, 24, 25, 26, 28, 30, 32, 34, 35, 36, 38, 40, 42, 44, 45, 46, 48, 50, 52, 54, 55, 56, 58, 60, 62, 64, 65, 66, 68, 70, 72, 74, 75, 76, 78, 80, 82, 84, 85, 86, 88, 90, 92, 94, 95, 96, 98, 100]\n"
     ]
    }
   ],
   "source": [
    "print(\"Please find the list of numbers from 1 to 100\")\n",
    "a = list(range(101))                   # List for 100 numbers created, by default range takes first element as 0. So 101 taken\n",
    "a.pop(0)                               # range(101) considered 0 as first element, so zeroth index element 0 is removed\n",
    "print(a)                               # list checked, contains 1 to 100\n",
    "\n",
    "cfor=list()                            # Create a blank list to store required output by for loop process\n",
    "cwhile = list()                        # Create a blank list to store required output by while loop process\n",
    "\n",
    "for i in range(0,len(a)):              # Used lenght of list which is 100 used to update sequence,initaited from 0, becauze we want to check all elements\n",
    "    cub1 = a[i]*a[i]*a[i]              # Cube formula\n",
    "    if cub1%4 == 0 or cub1%5 == 0:     # Using if to check requird conditions\n",
    "        cfor.append(a[i])              # Append values\n",
    "        \n",
    "idx = 0                                # Create a variable as idx to store index value\n",
    "while idx < len(a):                    # idx value should be from 0 to 99, becz we have to check 0 to 100 and at zeoth index 1 is there and 99th index 100\n",
    "    cub = a[idx]*a[idx]*a[idx]\n",
    "    if cub%4 == 0 or cub%5 == 0:\n",
    "        cwhile.append(a[idx])\n",
    "    idx += 1                           # like for function, we dont have sequence update capabilty in the begining, so use incremnet featue here \n",
    "    \n",
    "print(\"O/P by using for loop:\")\n",
    "print(cfor)\n",
    "print(\"O/P by using while loop:\")\n",
    "print(cwhile)"
   ]
  },
  {
   "cell_type": "markdown",
   "id": "1e0da371-9c96-412f-ad9b-e28249180e6c",
   "metadata": {},
   "source": [
    "# Q5. Write a program to filter count vowels in the below-given string. string = \"I want to become a data scientist\""
   ]
  },
  {
   "cell_type": "code",
   "execution_count": 81,
   "id": "afee02c2-a476-450e-90c9-28d2d134dc41",
   "metadata": {},
   "outputs": [
    {
     "name": "stdout",
     "output_type": "stream",
     "text": [
      "Counts of vowels in \"I want to become a data scientist\" is : 12\n"
     ]
    }
   ],
   "source": [
    "chk = \"I want to become a data scientist\"\n",
    "\n",
    "chk1 = chk.lower()\n",
    "v = ['a','e','i','o','u']\n",
    "i = 0\n",
    "cnt = 0\n",
    "while i < len(v):\n",
    "    for j in range(len(chk1)):\n",
    "        if v[i] == chk1[j]:\n",
    "            cnt += 1\n",
    "    i += 1\n",
    "print('Counts of vowels in \"{0}\" is : {1}'.format(chk,cnt))"
   ]
  }
 ],
 "metadata": {
  "kernelspec": {
   "display_name": "Python 3",
   "language": "python",
   "name": "python3"
  },
  "language_info": {
   "codemirror_mode": {
    "name": "ipython",
    "version": 3
   },
   "file_extension": ".py",
   "mimetype": "text/x-python",
   "name": "python",
   "nbconvert_exporter": "python",
   "pygments_lexer": "ipython3",
   "version": "3.8.8"
  }
 },
 "nbformat": 4,
 "nbformat_minor": 5
}
